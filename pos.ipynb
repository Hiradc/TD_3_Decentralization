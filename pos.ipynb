{
 "cells": [
  {
   "cell_type": "code",
   "execution_count": 31,
   "metadata": {},
   "outputs": [
    {
     "name": "stdout",
     "output_type": "stream",
     "text": [
      "Consensus Probabilities: [0.74424545 0.22621454 0.02954251]\n",
      "Final Predicted Class: 0\n",
      "Paul's model:  0.00067\n",
      "Tristan's model:  0.99976\n",
      "Maxime's model:  1.0\n",
      "Cyprien's model:  0.9765517870435886\n"
     ]
    }
   ],
   "source": [
    "import requests\n",
    "import numpy as np\n",
    "\n",
    "# URLs for the models\n",
    "urls = [\n",
    "    \"https://28d0-89-30-29-68.ngrok-free.app/predict\", #Paul\n",
    "    \"https://d5fb-89-30-29-68.ngrok-free.app/predict\", #Tristan\n",
    "    \"https://1c43-89-30-29-68.ngrok-free.app/predict\", #Maxime\n",
    "    \"https://db3a-89-30-29-68.ngrok-free.app/predict\" #Cyprien\n",
    "]\n",
    "\n",
    "# Input features for the prediction\n",
    "input_features = [5.1, 3.5, 1.4, 0.2]  # Example input for an Iris flower\n",
    "\n",
    "# Function to query a model and return predictions\n",
    "def get_predictions(url, input_features):\n",
    "    try:\n",
    "        if \"features\" in url:  # If the URL expects a \"features\" parameter\n",
    "            response = requests.get(url, params={\"features\": \",\".join(map(str, input_features))})\n",
    "        else:  # If the URL expects individual parameters\n",
    "            params = {\n",
    "                \"sepal_length\": input_features[0],\n",
    "                \"sepal_width\": input_features[1],\n",
    "                \"petal_length\": input_features[2],\n",
    "                \"petal_width\": input_features[3],\n",
    "            }\n",
    "            response = requests.get(url, params=params)\n",
    "        \n",
    "        response.raise_for_status()  # Raise an exception for HTTP errors\n",
    "        data = response.json()\n",
    "        return data.get(\"probabilities\", [])  # Return the probabilities\n",
    "    except Exception as e:\n",
    "        print(f\"Error querying {url}: {e}\")\n",
    "        return []\n",
    "\n",
    "# Fetch predictions from all models\n",
    "predictions = []\n",
    "for url in urls:\n",
    "    model_predictions = get_predictions(url, input_features)\n",
    "    if model_predictions:\n",
    "        predictions.append(model_predictions)\n",
    "\n",
    "# Check if we received predictions from all models\n",
    "if len(predictions) < len(urls):\n",
    "    print(\"Some models did not return predictions. Proceeding with available results.\")\n",
    "\n",
    "# Aggregate predictions (average probabilities)\n",
    "if predictions:\n",
    "    predictions_array = np.array(predictions)  # Convert to a NumPy array for easier averaging\n",
    "    averaged_probabilities = np.mean(predictions_array, axis=0)\n",
    "\n",
    "    # Get the class with the highest probability\n",
    "    final_class = int(np.argmax(averaged_probabilities))\n",
    "\n",
    "    # Output the results\n",
    "    print(\"Consensus Probabilities:\", averaged_probabilities)\n",
    "    print(\"Final Predicted Class:\", final_class)\n",
    "    print(\"Paul's model: \", predictions[0][final_class])\n",
    "    print(\"Tristan's model: \", predictions[1][final_class])\n",
    "    print(\"Maxime's model: \", predictions[2][final_class])\n",
    "    print(\"Cyprien's model: \", predictions[3][final_class])\n",
    "else:\n",
    "    print(\"No predictions available to aggregate.\")"
   ]
  }
 ],
 "metadata": {
  "kernelspec": {
   "display_name": "base",
   "language": "python",
   "name": "python3"
  },
  "language_info": {
   "codemirror_mode": {
    "name": "ipython",
    "version": 3
   },
   "file_extension": ".py",
   "mimetype": "text/x-python",
   "name": "python",
   "nbconvert_exporter": "python",
   "pygments_lexer": "ipython3",
   "version": "3.11.7"
  }
 },
 "nbformat": 4,
 "nbformat_minor": 2
}
